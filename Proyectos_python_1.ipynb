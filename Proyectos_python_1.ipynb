{
 "cells": [
  {
   "cell_type": "code",
   "execution_count": null,
   "metadata": {
    "collapsed": true
   },
   "outputs": [],
   "source": [
    "#PROYECTOS TECNICOS. 1.- Numeros primos, factoriales, Fibonacci"
   ]
  },
  {
   "cell_type": "code",
   "execution_count": null,
   "metadata": {
    "collapsed": true
   },
   "outputs": [],
   "source": [
    "# 1.- CRIBA DE ERATOSTENES. Determinar si un numero es primo en Python\n",
    "# un numero es primo si es divisible por 1 y por si mismo\n",
    "# La criba se para en el momento en que el cuadrado del número a investigar es mayor que el último número de la lista\n",
    "# por ejemplo: numeros entre 1-100: Me paro en el 11"
   ]
  },
  {
   "cell_type": "code",
   "execution_count": null,
   "metadata": {
    "collapsed": true
   },
   "outputs": [],
   "source": []
  },
  {
   "cell_type": "code",
   "execution_count": null,
   "metadata": {
    "collapsed": true
   },
   "outputs": [],
   "source": [
    "#A# HACIENDO LA LISTA DE PRIMOS"
   ]
  },
  {
   "cell_type": "code",
   "execution_count": null,
   "metadata": {
    "collapsed": true
   },
   "outputs": [],
   "source": [
    "#Un número no es primo si tiene mas de dos divisores"
   ]
  },
  {
   "cell_type": "code",
   "execution_count": 24,
   "metadata": {
    "scrolled": true
   },
   "outputs": [
    {
     "name": "stdout",
     "output_type": "stream",
     "text": [
      "primo 19\n"
     ]
    },
    {
     "ename": "NameError",
     "evalue": "global name 'false' is not defined",
     "output_type": "error",
     "traceback": [
      "\u001b[0;31m---------------------------------------------------------------------------\u001b[0m",
      "\u001b[0;31mNameError\u001b[0m                                 Traceback (most recent call last)",
      "\u001b[0;32m<ipython-input-24-77e5212bcfc7>\u001b[0m in \u001b[0;36m<module>\u001b[0;34m()\u001b[0m\n\u001b[1;32m     12\u001b[0m \u001b[0;34m\u001b[0m\u001b[0m\n\u001b[1;32m     13\u001b[0m \u001b[0mverificaPrimo\u001b[0m\u001b[0;34m(\u001b[0m\u001b[0;36m19\u001b[0m\u001b[0;34m)\u001b[0m\u001b[0;34m\u001b[0m\u001b[0m\n\u001b[0;32m---> 14\u001b[0;31m \u001b[0mverificaPrimo\u001b[0m\u001b[0;34m(\u001b[0m\u001b[0;36m24\u001b[0m\u001b[0;34m)\u001b[0m\u001b[0;34m\u001b[0m\u001b[0m\n\u001b[0m",
      "\u001b[0;32m<ipython-input-24-77e5212bcfc7>\u001b[0m in \u001b[0;36mverificaPrimo\u001b[0;34m(numero)\u001b[0m\n\u001b[1;32m      6\u001b[0m             \u001b[0mcont\u001b[0m\u001b[0;34m+=\u001b[0m\u001b[0;36m1\u001b[0m\u001b[0;34m\u001b[0m\u001b[0m\n\u001b[1;32m      7\u001b[0m             \u001b[0;32mif\u001b[0m \u001b[0mcont\u001b[0m\u001b[0;34m>\u001b[0m\u001b[0;36m1\u001b[0m\u001b[0;34m:\u001b[0m\u001b[0;34m\u001b[0m\u001b[0m\n\u001b[0;32m----> 8\u001b[0;31m                 \u001b[0;32mreturn\u001b[0m \u001b[0mfalse\u001b[0m\u001b[0;34m\u001b[0m\u001b[0m\n\u001b[0m\u001b[1;32m      9\u001b[0m     \u001b[0;32mif\u001b[0m \u001b[0mcont\u001b[0m\u001b[0;34m<=\u001b[0m\u001b[0;36m1\u001b[0m\u001b[0;34m:\u001b[0m\u001b[0;34m\u001b[0m\u001b[0m\n\u001b[1;32m     10\u001b[0m         \u001b[0;32mprint\u001b[0m \u001b[0;34m'primo'\u001b[0m\u001b[0;34m,\u001b[0m \u001b[0mnumero\u001b[0m\u001b[0;34m\u001b[0m\u001b[0m\n",
      "\u001b[0;31mNameError\u001b[0m: global name 'false' is not defined"
     ]
    }
   ],
   "source": [
    "n=5 #n lo puedo poner utilizando la criba de eratostenes\n",
    "def verificaPrimo(numero):\n",
    "    cont=0\n",
    "    for i in range(1,n):  #n lo puedo poner utilizando la criba de eratostenes\n",
    "        if(numero%i==0):\n",
    "            cont+=1\n",
    "            if cont>1:\n",
    "                return false\n",
    "    if cont<=1:\n",
    "        print 'primo', numero\n",
    "    return 'ok'\n",
    "\n",
    "verificaPrimo(19)\n",
    "verificaPrimo(24) #NameError: global name 'false' is not defined"
   ]
  },
  {
   "cell_type": "code",
   "execution_count": null,
   "metadata": {
    "collapsed": true
   },
   "outputs": [],
   "source": [
    "#B# HACIENDO PRIMERO LA LISTA DE LOS NO PRIMOS Y LUEGO COMPROBANDO LOS NUMEROS QUE NO ESTAN"
   ]
  },
  {
   "cell_type": "code",
   "execution_count": 9,
   "metadata": {
    "collapsed": true
   },
   "outputs": [],
   "source": [
    "n=100 #número que voy a parar la criba\n",
    "n_max=11 #número que voy a probar"
   ]
  },
  {
   "cell_type": "code",
   "execution_count": 19,
   "metadata": {},
   "outputs": [
    {
     "name": "stdout",
     "output_type": "stream",
     "text": [
      "set([4, 6, 8, 9, 10, 12, 14, 15, 16, 18, 20, 21, 22, 24, 25, 26, 27, 28, 30, 32, 33, 34, 35, 36, 38, 39, 40, 42, 44, 45, 46, 48, 49, 50, 51, 52, 54, 55, 56, 57, 58, 60, 62, 63, 64, 65, 66, 68, 69, 70, 72, 74, 75, 76, 77, 78, 80, 81, 82, 84, 85, 86, 87, 88, 90, 91, 92, 93, 94, 95, 96, 98, 99])\n"
     ]
    }
   ],
   "source": [
    "n_max=11   #esto lo saco de la lista de Eratostenes\n",
    "#Lista de todos los números no primos desde el 1-100\n",
    "noprimos=[]\n",
    "\n",
    "for i in range(2,n_max):  \n",
    "    for j in range(2,n):  #este bucle me hace una tonteria\n",
    "        #print str(i)+' '+str(j)+' '+str(i*j)\n",
    "        if i*j<n:\n",
    "            noprimos.append(i*j)\n",
    "print set(noprimos)  #quite los repetidos"
   ]
  },
  {
   "cell_type": "code",
   "execution_count": 20,
   "metadata": {},
   "outputs": [
    {
     "name": "stdout",
     "output_type": "stream",
     "text": [
      "[1, 2, 3, 5, 7, 11, 13, 17, 19, 23, 29, 31, 37, 41, 43, 47, 53, 59, 61, 67, 71, 73, 79, 83, 89, 97]\n"
     ]
    }
   ],
   "source": [
    "primos =[]\n",
    "for k in range(1,n):\n",
    "    if not k in noprimos:\n",
    "        primos.append(k)  #a ver el 34 no es primo! es 17*2 y yo le he puesto que pinte hasta el 11 :O ni el 46!\n",
    "        \n",
    "print primos  \n",
    "        \n",
    "        "
   ]
  },
  {
   "cell_type": "code",
   "execution_count": null,
   "metadata": {
    "collapsed": true
   },
   "outputs": [],
   "source": []
  },
  {
   "cell_type": "code",
   "execution_count": null,
   "metadata": {
    "collapsed": true
   },
   "outputs": [],
   "source": [
    "#2.- NUMEROS FACTORIALES\n",
    "#Los números factoriales se obtienen multiplicando el número dado por su antecesor si es mayor que uno"
   ]
  },
  {
   "cell_type": "code",
   "execution_count": 56,
   "metadata": {},
   "outputs": [
    {
     "name": "stdout",
     "output_type": "stream",
     "text": [
      "result 56\n",
      "result 336\n",
      "result 1680\n",
      "result 6720\n",
      "result 20160\n",
      "result 40320\n",
      "factorial 40320\n"
     ]
    }
   ],
   "source": [
    "import sys\n",
    "'''\n",
    "for z in range(3,1,-1):  #no funciona con rangos al reves. Le tengo que dar el INCREMENTO\n",
    "    print z\n",
    "'''\n",
    "def factorial(number):\n",
    "    \n",
    "    result=number\n",
    "    for z in range(number-1,1,-1):\n",
    "        \n",
    "        result=result*z\n",
    "        print'result', result\n",
    "        #result=number*[factor] #iterar en una lista con Python\n",
    "        #new_list = [x for x in somelist if i%2==0]\n",
    "    return 'total result', result\n",
    "    \n",
    "\n",
    "factorial(8)\n",
    "    \n",
    "print 'factorial', 8*7*6*5*4*3*2\n",
    "        "
   ]
  },
  {
   "cell_type": "code",
   "execution_count": null,
   "metadata": {
    "collapsed": true
   },
   "outputs": [],
   "source": [
    "#3 FIBONACCI"
   ]
  },
  {
   "cell_type": "code",
   "execution_count": 77,
   "metadata": {},
   "outputs": [
    {
     "name": "stdout",
     "output_type": "stream",
     "text": [
      "1144.86680448\n",
      "38925.4713523\n"
     ]
    },
    {
     "data": {
      "text/plain": [
       "34"
      ]
     },
     "execution_count": 77,
     "metadata": {},
     "output_type": "execute_result"
    }
   ],
   "source": [
    "from math import sqrt\n",
    "#raices de orden n?   4*sqrt(2)\n",
    "\n",
    "def Fibo(number):\n",
    "    \n",
    "    #print 4**(float(w))   #esto no me da bien; queda uno; deberia de ser dos\n",
    "    numerator=((1+sqrt(5))**(number))-((1-sqrt(5))**(number))\n",
    "    denominator= sqrt(5)*2**number\n",
    "    print denominator\n",
    "    print numerator\n",
    "    result=numerator/denominator\n",
    "    return int(result)\n",
    "    \n",
    "Fibo(9)\n",
    "    \n",
    "\n"
   ]
  },
  {
   "cell_type": "code",
   "execution_count": null,
   "metadata": {
    "collapsed": true
   },
   "outputs": [],
   "source": [
    "#4 BINARIO TO DECIMAL\n",
    "#Construya un programa que reciba un número decimal y muestre por pantalla su\n",
    "#representación en binario y viceversa.\n",
    "#Para hacer la conversión de decimal a binario, \n",
    "#hay que ir dividiendo el número decimal entre dos y anotar en \n",
    "#una columna a la derecha el resto \n",
    "#(un 0 si el resultado de la división es par y un 1 si es impar). "
   ]
  },
  {
   "cell_type": "code",
   "execution_count": 86,
   "metadata": {},
   "outputs": [
    {
     "name": "stdout",
     "output_type": "stream",
     "text": [
      "4\n",
      "2\n",
      "1\n"
     ]
    },
    {
     "data": {
      "text/plain": [
       "1"
      ]
     },
     "execution_count": 86,
     "metadata": {},
     "output_type": "execute_result"
    }
   ],
   "source": [
    "def deci_to_bi(numero):\n",
    "    bi=[]\n",
    "    while numero >1:\n",
    "        numero=numero/2\n",
    "        print numero\n",
    "        if numero%2 == 0 :  #el resto de dividir entre dos es cero == par\n",
    "            bi.append(str(0))\n",
    "        else:\n",
    "            bi.append(str(1))\n",
    "    binario=\"\".join(bi)\n",
    "    return binario\n",
    "deci_to_bi(8)"
   ]
  },
  {
   "cell_type": "code",
   "execution_count": null,
   "metadata": {
    "collapsed": true
   },
   "outputs": [],
   "source": [
    "#Implemente en Python el juego de cartas del blackjack, con un jugador y el computador, utilice\n",
    "#el módulo random para generar jugadas pseudoaleatorias para la máquina."
   ]
  },
  {
   "cell_type": "code",
   "execution_count": null,
   "metadata": {
    "collapsed": true
   },
   "outputs": [],
   "source": [
    "#Serie de Taylor para calcular senos y cosenos"
   ]
  }
 ],
 "metadata": {
  "kernelspec": {
   "display_name": "Python 2",
   "language": "python",
   "name": "python2"
  },
  "language_info": {
   "codemirror_mode": {
    "name": "ipython",
    "version": 2
   },
   "file_extension": ".py",
   "mimetype": "text/x-python",
   "name": "python",
   "nbconvert_exporter": "python",
   "pygments_lexer": "ipython2",
   "version": "2.7.14"
  }
 },
 "nbformat": 4,
 "nbformat_minor": 2
}
